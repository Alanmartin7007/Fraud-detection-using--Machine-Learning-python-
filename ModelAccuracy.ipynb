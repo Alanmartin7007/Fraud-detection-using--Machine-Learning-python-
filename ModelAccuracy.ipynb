{
 "cells": [
  {
   "cell_type": "code",
   "execution_count": 2,
   "metadata": {},
   "outputs": [],
   "source": [
    "import os\n",
    "from numpy import loadtxt\n",
    "import numpy as np\n",
    "import pandas as pd\n",
    "from xgboost import XGBClassifier\n",
    "from sklearn.model_selection import train_test_split\n",
    "from sklearn.metrics import accuracy_score\n",
    "from xgboost import plot_importance\n",
    "from matplotlib import pyplot\n",
    "from sklearn.model_selection import GridSearchCV\n",
    "from sklearn.model_selection import StratifiedKFold"
   ]
  },
  {
   "cell_type": "code",
   "execution_count": 3,
   "metadata": {
    "scrolled": true
   },
   "outputs": [
    {
     "name": "stdout",
     "output_type": "stream",
     "text": [
      "               customerEmail  No_Transactions  No_Orders  No_Payments  Fraud\n",
      "0     josephhoward@yahoo.com                2          2            1  False\n",
      "1     evansjeffery@yahoo.com                3          3            7   True\n",
      "2  andersonwilliam@yahoo.com                5          3            2  False\n",
      "3      rubenjuarez@yahoo.com                3          3            1  False\n",
      "4           uchen@malone.com                7          7            6   True\n",
      "            customerEmail paymentMethodType  transactionAmount orderState  \\\n",
      "0  josephhoward@yahoo.com              card                 18    pending   \n",
      "1  josephhoward@yahoo.com              card                 26  fulfilled   \n",
      "2  evansjeffery@yahoo.com           bitcoin                 45  fulfilled   \n",
      "3  evansjeffery@yahoo.com           bitcoin                 23  fulfilled   \n",
      "4  evansjeffery@yahoo.com           bitcoin                 43  fulfilled   \n",
      "\n",
      "  paymentMethodProvider  \n",
      "0          JCB 16 digit  \n",
      "1          JCB 16 digit  \n",
      "2      American Express  \n",
      "3      American Express  \n",
      "4         VISA 16 digit  \n",
      "            customerEmail paymentMethodType  transactionAmount orderState  \\\n",
      "0  josephhoward@yahoo.com              card                 18    pending   \n",
      "1  josephhoward@yahoo.com              card                 26  fulfilled   \n",
      "2  evansjeffery@yahoo.com           bitcoin                 45  fulfilled   \n",
      "3  evansjeffery@yahoo.com           bitcoin                 23  fulfilled   \n",
      "4  evansjeffery@yahoo.com           bitcoin                 43  fulfilled   \n",
      "\n",
      "  paymentMethodProvider  No_Transactions  No_Orders  No_Payments  Fraud  \n",
      "0          JCB 16 digit                2          2            1  False  \n",
      "1          JCB 16 digit                2          2            1  False  \n",
      "2      American Express                3          3            7   True  \n",
      "3      American Express                3          3            7   True  \n",
      "4         VISA 16 digit                3          3            7   True  \n"
     ]
    }
   ],
   "source": [
    "# Join dataset and produce the result dataframe\n",
    "customer = pd.read_csv(\"customer.csv\",index_col=False)\n",
    "customer_df = customer[[\"customerEmail\",\"No_Transactions\",\"No_Orders\",\"No_Payments\",\"Fraud\"]]\n",
    "transaction = pd.read_csv(\"transaction.csv\",index_col=False)\n",
    "transaction_df = transaction[[\"customerEmail\",\"paymentMethodType\",\"transactionAmount\",\"orderState\",\"paymentMethodProvider\"]]\n",
    "print(customer_df.head())\n",
    "print(transaction_df.head())\n",
    "result = pd.merge(transaction_df,customer_df,on='customerEmail')\n",
    "print(result.head())\n",
    "\n",
    "\n"
   ]
  },
  {
   "cell_type": "code",
   "execution_count": 4,
   "metadata": {
    "scrolled": true
   },
   "outputs": [
    {
     "name": "stdout",
     "output_type": "stream",
     "text": [
      "   cust_id  order_state_num  pay_method  pay_method_provider  No_Transactions  \\\n",
      "0        0                0           0                    0                2   \n",
      "1        0                1           0                    0                2   \n",
      "2        1                1           1                    1                3   \n",
      "3        1                1           1                    1                3   \n",
      "4        1                1           1                    2                3   \n",
      "\n",
      "   No_Orders  No_Payments  transactionAmount  fraud_num  \n",
      "0          2            1                 18          0  \n",
      "1          2            1                 26          0  \n",
      "2          3            7                 45          1  \n",
      "3          3            7                 23          1  \n",
      "4          3            7                 43          1  \n"
     ]
    }
   ],
   "source": [
    "# Data Preparation - Conversion from categorical values to numeric values and save numeric data frame to training_data_final.csv\n",
    "arr_customer=result['customerEmail'].unique()\n",
    "result['cust_id']=result['customerEmail'].apply(lambda x: arr_customer.tolist().index(x))\n",
    "arr_method=result['paymentMethodType'].unique()\n",
    "result['pay_method']=result['paymentMethodType'].apply(lambda x: arr_method.tolist().index(x))\n",
    "arr_method_provider=result['paymentMethodProvider'].unique()\n",
    "result['pay_method_provider']=result['paymentMethodProvider'].apply(lambda x: arr_method_provider.tolist().index(x))\n",
    "arr_order_state=result['orderState'].unique()\n",
    "result['order_state_num']=result['orderState'].apply(lambda x: arr_order_state.tolist().index(x))\n",
    "arr_fraud=result['Fraud'].unique()\n",
    "result['fraud_num']=result['Fraud'].apply(lambda x: arr_fraud.tolist().index(x))\n",
    "num_df = result[[\"cust_id\",\"order_state_num\",\"pay_method\",\"pay_method_provider\",\"No_Transactions\",\"No_Orders\",\"No_Payments\",\"transactionAmount\",\"fraud_num\"]]\n",
    "num_df.to_csv(\"training_data_final.csv\", sep=',', encoding='utf-8',index=False)\n",
    "print(num_df.head())"
   ]
  },
  {
   "cell_type": "code",
   "execution_count": 5,
   "metadata": {
    "scrolled": true
   },
   "outputs": [
    {
     "name": "stdout",
     "output_type": "stream",
     "text": [
      "Accuracy: 97.05%\n"
     ]
    }
   ],
   "source": [
    "dataset = pd.read_csv(\"training_data_final.csv\",index_col=False)\n",
    "X = dataset.iloc[:,0:8]\n",
    "Y = dataset.iloc[:,8]\n",
    "seed = 7\n",
    "test_size = 0.33\n",
    "X_train, X_test, y_train, y_test = train_test_split(X, Y, test_size=test_size, random_state=seed)\n",
    "model = XGBClassifier()\n",
    "model.fit(X_train, y_train)\n",
    "\n",
    "\n",
    "# Create Prediction Record and Predict if Fraud is True or False\n",
    "predictions = model.predict(X_test)\n",
    "accuracy = accuracy_score(y_test, predictions)\n",
    "print(\"Accuracy: %.2f%%\" % (accuracy * 100.0))\n"
   ]
  },
  {
   "cell_type": "code",
   "execution_count": null,
   "metadata": {},
   "outputs": [],
   "source": []
  }
 ],
 "metadata": {
  "kernelspec": {
   "display_name": "Python 3",
   "language": "python",
   "name": "python3"
  },
  "language_info": {
   "codemirror_mode": {
    "name": "ipython",
    "version": 3
   },
   "file_extension": ".py",
   "mimetype": "text/x-python",
   "name": "python",
   "nbconvert_exporter": "python",
   "pygments_lexer": "ipython3",
   "version": "3.7.4"
  }
 },
 "nbformat": 4,
 "nbformat_minor": 2
}
